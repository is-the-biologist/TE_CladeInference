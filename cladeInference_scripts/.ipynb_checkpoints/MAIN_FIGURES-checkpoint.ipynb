{
 "cells": [
  {
   "cell_type": "code",
   "execution_count": null,
   "id": "grand-survey",
   "metadata": {},
   "outputs": [],
   "source": [
    "from HaploTE import summary_stats, subfamilyInference, piRNA, haplotypeAnalysis, PacBio\n",
    "import numpy as np\n",
    "import pandas as pd\n",
    "import os\n",
    "import seaborn as sns\n",
    "import scipy as sp\n",
    "import matplotlib.pyplot as plt\n",
    "from sklearn.linear_model import LinearRegression\n",
    "from statsmodels.formula.api import ols\n",
    "from statsmodels.stats.anova import anova_lm\n",
    "from statsmodels.stats.multitest import fdrcorrection\n",
    "from scikit_posthocs import posthoc_dunn\n",
    "from operator import itemgetter\n",
    "from statsmodels.stats import multitest\n",
    "\n",
    "import math\n",
    "\n",
    "class_palette =[\"#430398\", \"#B40066\", \"#8BD100\", \"#E0CC00\"]\n",
    "order = ['Heta-1D', 'Heta-2', 'Heta-3', 'Heta-5', 'Heta', 'Tahre', 'Tart-A', 'Tart-B1', 'Tart-C', 'BS', 'Doc6', 'Doc', 'F-element', 'I-element', 'Jockey', 'R1', 'R2', 'Blood', 'Burdock', 'Copia', 'Diver', 'DM176', 'DM412', 'MDG1', 'MDG3', 'Nomad', 'Roo', 'Rover', 'Tabor', 'Tirant', 'Transpac', 'Zam', 'Stalker-4', 'Bel', 'Gypsy', 'Gypsy1', 'Bari', 'Hobo', 'M4DM', 'P-element', 'Pogo']\n",
    "\n",
    "famAnalysis = subfamilyInference()\n",
    "hapAnalysis = haplotypeAnalysis()\n",
    "piRNAs = piRNA()\n",
    "PB = PacBio()"
   ]
  }
 ],
 "metadata": {
  "kernelspec": {
   "display_name": "Python 3",
   "language": "python",
   "name": "python3"
  },
  "language_info": {
   "codemirror_mode": {
    "name": "ipython",
    "version": 3
   },
   "file_extension": ".py",
   "mimetype": "text/x-python",
   "name": "python",
   "nbconvert_exporter": "python",
   "pygments_lexer": "ipython3",
   "version": "3.8.8"
  }
 },
 "nbformat": 4,
 "nbformat_minor": 5
}
