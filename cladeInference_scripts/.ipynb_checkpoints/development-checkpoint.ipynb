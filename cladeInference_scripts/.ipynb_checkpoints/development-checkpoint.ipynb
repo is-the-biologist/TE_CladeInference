{
 "cells": [
  {
   "cell_type": "code",
   "execution_count": 2,
   "metadata": {},
   "outputs": [],
   "source": [
    "from HaploTE import summary_stats, subfamilyInference, piRNA, haplotypeAnalysis, PacBio\n",
    "import numpy as np\n",
    "import pandas as pd\n",
    "import os\n",
    "import seaborn as sns\n",
    "import scipy as sp\n",
    "import matplotlib.pyplot as plt\n",
    "\n",
    "class_palette =[\"#682a68ff\", \"#a05c41ff\", \"#2d6e52ff\", \"#8b9b3fff\"]\n",
    "\n",
    "famAnalysis = subfamilyInference()\n",
    "hapAnalysis = haplotypeAnalysis()\n",
    "piRNAs = piRNA()\n",
    "PB = PacBio()"
   ]
  },
  {
   "cell_type": "code",
   "execution_count": 10,
   "metadata": {},
   "outputs": [],
   "source": [
    "test_numpy = piRNAs.get_piRNA_pileups(BAM=\"/Users/iskander/Documents/Barbash_lab/TE_diversity_data/piRNA/BAM_files/ZW184-ova-s_lane2.clean.fq.gz.trimmed.gz.New_Aligned_ConensusDR.sorted.bam\",\n",
    "                        TE=\"ROO_I\", matrix_size=10000)"
   ]
  },
  {
   "cell_type": "code",
   "execution_count": 11,
   "metadata": {},
   "outputs": [
    {
     "data": {
      "text/plain": [
       "array([[ 0,  0,  0, ...,  0,  0,  0],\n",
       "       [ 0, 22, 25, ...,  0,  0,  0],\n",
       "       [ 0,  0,  0, ...,  0,  0,  0],\n",
       "       ...,\n",
       "       [ 0,  3,  3, ...,  0,  0,  0],\n",
       "       [ 0,  0,  0, ...,  0,  0,  0],\n",
       "       [ 0,  0,  0, ...,  0,  0,  0]])"
      ]
     },
     "execution_count": 11,
     "metadata": {},
     "output_type": "execute_result"
    }
   ],
   "source": [
    "test_numpy"
   ]
  },
  {
   "cell_type": "code",
   "execution_count": null,
   "metadata": {},
   "outputs": [],
   "source": []
  }
 ],
 "metadata": {
  "kernelspec": {
   "display_name": "Python 3",
   "language": "python",
   "name": "python3"
  },
  "language_info": {
   "codemirror_mode": {
    "name": "ipython",
    "version": 3
   },
   "file_extension": ".py",
   "mimetype": "text/x-python",
   "name": "python",
   "nbconvert_exporter": "python",
   "pygments_lexer": "ipython3",
   "version": "3.8.3"
  }
 },
 "nbformat": 4,
 "nbformat_minor": 4
}
