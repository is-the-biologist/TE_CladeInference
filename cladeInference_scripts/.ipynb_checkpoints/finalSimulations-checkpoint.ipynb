{
 "cells": [
  {
   "cell_type": "code",
   "execution_count": 3,
   "metadata": {},
   "outputs": [],
   "source": [
    "from HaploTE import summary_stats, subfamilyInference, PacBio, simulateHaplotypes\n",
    "import sys\n",
    "import importlib.util\n",
    "import pandas as pd \n",
    "import os\n",
    "import numpy as np\n",
    "import seaborn as sns\n",
    "import matplotlib.pyplot as plt\n",
    "from multiprocessing import Pool\n",
    "import math\n",
    "import scipy as sp\n",
    "from collections import Counter\n",
    "from sklearn.cluster import AgglomerativeClustering\n",
    "from Bio import SeqIO\n",
    "import operator\n",
    "\n",
    "simData = simulateHaplotypes()\n",
    "\n",
    "def makePaths(newPath, sim_CN, TE):\n",
    "    newDiv = os.path.join(\"/Users/iskander/Documents/Barbash_lab/TE_diversity_data/seq_diversity_numpys/\", newPath)\n",
    "    CN_root = os.path.join(\"/Users/iskander/Documents/Barbash_lab/TE_diversity_data/CN_dataframes/\", newPath)\n",
    "    CN_df_path = os.path.join(\"/Users/iskander/Documents/Barbash_lab/TE_diversity_data/CN_dataframes/\", newPath, 'FULL')\n",
    "    AP_df_path = os.path.join('/Users/iskander/Documents/Barbash_lab/TE_diversity_data/AP_dataframes/', newPath)\n",
    "    outlier_path = os.path.join(\"/Users/iskander/Documents/Barbash_lab/TE_diversity_data/CN_dataframes/\", newPath, 'NO_OUTLIERS')\n",
    "    all_new = [newDiv, CN_root, CN_df_path, outlier_path, AP_df_path]\n",
    "    \n",
    "    for p in all_new:\n",
    "        try:\n",
    "            os.mkdir(p)\n",
    "        except FileExistsError:\n",
    "            print(f\"{p} already exists.\")\n",
    "            \n",
    "\n",
    "    sim_path = os.path.join(\"/Users/iskander/Documents/Barbash_lab/TE_diversity_data/PacBio/Simulations/\", sim_CN)\n",
    "    \n",
    "    seqAnalysis = subfamilyInference(sample_sheet= os.path.join(sim_path, f\"{TE}_sample_sheet.csv\"))\n",
    "    stats = summary_stats(sample_sheet= os.path.join(sim_path, f\"{TE}_sample_sheet.csv\"))\n",
    "\n",
    "    \n",
    "    seqAnalysis.CN_df_path=CN_df_path\n",
    "    seqAnalysis.AP_df_path=AP_df_path\n",
    "    seqAnalysis.div_path = newDiv\n",
    "    seqAnalysis.CN_path = sim_path\n",
    "    stats.path = sim_path\n",
    "    \n",
    "def runSimulation(simPath, inTE, sim_TE):\n",
    "    \n",
    "\n",
    "    \n",
    "    \n",
    "    newPath=\"SIM_\"+simPath\n",
    "    \n",
    "    \n",
    "    \n",
    "    newDiv = os.path.join(\"/Users/iskander/Documents/Barbash_lab/TE_diversity_data/seq_diversity_numpys/\", newPath)\n",
    "    CN_root = os.path.join(\"/Users/iskander/Documents/Barbash_lab/TE_diversity_data/CN_dataframes/\", newPath)\n",
    "    CN_df_path = os.path.join(\"/Users/iskander/Documents/Barbash_lab/TE_diversity_data/CN_dataframes/\", newPath, 'FULL')\n",
    "    AP_df_path = os.path.join('/Users/iskander/Documents/Barbash_lab/TE_diversity_data/AP_dataframes/', newPath)\n",
    "    outlier_path = os.path.join(\"/Users/iskander/Documents/Barbash_lab/TE_diversity_data/CN_dataframes/\", newPath, 'NO_OUTLIERS')\n",
    "    all_new = [newDiv, CN_root, CN_df_path, outlier_path, AP_df_path]\n",
    "    \n",
    "    for p in all_new:\n",
    "        try:\n",
    "            os.mkdir(p)\n",
    "        except FileExistsError:\n",
    "            print(f\"{p} already exists.\")\n",
    "            \n",
    "\n",
    "    FullSim_path = os.path.join(\"/Users/iskander/Documents/Barbash_lab/TE_diversity_data/PacBio/Simulations/\", simPath)\n",
    "    \n",
    "    seqAnalysis = subfamilyInference(sample_sheet= os.path.join(FullSim_path, f\"{inTE}_sample_sheet.csv\"))\n",
    "    stats = summary_stats(sample_sheet= os.path.join(FullSim_path, f\"{inTE}_sample_sheet.csv\"))\n",
    "\n",
    "    \n",
    "    seqAnalysis.CN_df_path=CN_df_path\n",
    "    seqAnalysis.AP_df_path=AP_df_path\n",
    "    seqAnalysis.div_path = newDiv\n",
    "    seqAnalysis.CN_path = FullSim_path\n",
    "    stats.path = FullSim_path\n",
    "\n",
    "    #inTE = \"simJockey\"\n",
    "    pi = stats.calcPi(inTE, save=False)\n",
    "    \n",
    "    np.save(os.path.join(seqAnalysis.div_path, inTE+\"_pi.npy\"), pi)\n",
    "\n",
    "    seqAnalysis.CNAP_extraction(pi_filter=0.1, minFreq=0.1, TE=sim_TE, min_strains=10)\n",
    "    \n"
   ]
  },
  {
   "cell_type": "markdown",
   "metadata": {},
   "source": [
    "# Purpose:\n",
    "\n",
    "I will re-run the copy number data simulation pipeline, across the entire parameter space, but additionally subsampling individuals. This will give me an interesting distribution of data to work with. I will use the intervals: 5, 10, 15, 25, 50, 75, 85, 100, 150, 200, "
   ]
  },
  {
   "cell_type": "code",
   "execution_count": 2,
   "metadata": {},
   "outputs": [
    {
     "name": "stdout",
     "output_type": "stream",
     "text": [
      "/Users/iskander/Documents/Barbash_lab/TE_diversity_data/seq_diversity_numpys/SIM_simTE_5 already exists.\n",
      "/Users/iskander/Documents/Barbash_lab/TE_diversity_data/CN_dataframes/SIM_simTE_5 already exists.\n",
      "/Users/iskander/Documents/Barbash_lab/TE_diversity_data/CN_dataframes/SIM_simTE_5/FULL already exists.\n",
      "/Users/iskander/Documents/Barbash_lab/TE_diversity_data/CN_dataframes/SIM_simTE_5/NO_OUTLIERS already exists.\n",
      "/Users/iskander/Documents/Barbash_lab/TE_diversity_data/AP_dataframes/SIM_simTE_5 already exists.\n",
      "/Users/iskander/Documents/Barbash_lab/TE_diversity_data/seq_diversity_numpys/SIM_simTE_10 already exists.\n",
      "/Users/iskander/Documents/Barbash_lab/TE_diversity_data/CN_dataframes/SIM_simTE_10 already exists.\n",
      "/Users/iskander/Documents/Barbash_lab/TE_diversity_data/CN_dataframes/SIM_simTE_10/FULL already exists.\n",
      "/Users/iskander/Documents/Barbash_lab/TE_diversity_data/CN_dataframes/SIM_simTE_10/NO_OUTLIERS already exists.\n",
      "/Users/iskander/Documents/Barbash_lab/TE_diversity_data/AP_dataframes/SIM_simTE_10 already exists.\n",
      "/Users/iskander/Documents/Barbash_lab/TE_diversity_data/seq_diversity_numpys/SIM_simTE_15 already exists.\n",
      "/Users/iskander/Documents/Barbash_lab/TE_diversity_data/CN_dataframes/SIM_simTE_15 already exists.\n",
      "/Users/iskander/Documents/Barbash_lab/TE_diversity_data/CN_dataframes/SIM_simTE_15/FULL already exists.\n",
      "/Users/iskander/Documents/Barbash_lab/TE_diversity_data/CN_dataframes/SIM_simTE_15/NO_OUTLIERS already exists.\n",
      "/Users/iskander/Documents/Barbash_lab/TE_diversity_data/AP_dataframes/SIM_simTE_15 already exists.\n",
      "/Users/iskander/Documents/Barbash_lab/TE_diversity_data/seq_diversity_numpys/SIM_simTE_25 already exists.\n",
      "/Users/iskander/Documents/Barbash_lab/TE_diversity_data/CN_dataframes/SIM_simTE_25 already exists.\n",
      "/Users/iskander/Documents/Barbash_lab/TE_diversity_data/CN_dataframes/SIM_simTE_25/FULL already exists.\n",
      "/Users/iskander/Documents/Barbash_lab/TE_diversity_data/CN_dataframes/SIM_simTE_25/NO_OUTLIERS already exists.\n",
      "/Users/iskander/Documents/Barbash_lab/TE_diversity_data/AP_dataframes/SIM_simTE_25 already exists.\n",
      "/Users/iskander/Documents/Barbash_lab/TE_diversity_data/seq_diversity_numpys/SIM_simTE_50 already exists.\n",
      "/Users/iskander/Documents/Barbash_lab/TE_diversity_data/CN_dataframes/SIM_simTE_50 already exists.\n",
      "/Users/iskander/Documents/Barbash_lab/TE_diversity_data/CN_dataframes/SIM_simTE_50/FULL already exists.\n",
      "/Users/iskander/Documents/Barbash_lab/TE_diversity_data/CN_dataframes/SIM_simTE_50/NO_OUTLIERS already exists.\n",
      "/Users/iskander/Documents/Barbash_lab/TE_diversity_data/AP_dataframes/SIM_simTE_50 already exists.\n",
      "/Users/iskander/Documents/Barbash_lab/TE_diversity_data/seq_diversity_numpys/SIM_simTE_75 already exists.\n",
      "/Users/iskander/Documents/Barbash_lab/TE_diversity_data/CN_dataframes/SIM_simTE_75 already exists.\n",
      "/Users/iskander/Documents/Barbash_lab/TE_diversity_data/CN_dataframes/SIM_simTE_75/FULL already exists.\n",
      "/Users/iskander/Documents/Barbash_lab/TE_diversity_data/CN_dataframes/SIM_simTE_75/NO_OUTLIERS already exists.\n",
      "/Users/iskander/Documents/Barbash_lab/TE_diversity_data/AP_dataframes/SIM_simTE_75 already exists.\n",
      "/Users/iskander/Documents/Barbash_lab/TE_diversity_data/seq_diversity_numpys/SIM_simTE_85 already exists.\n",
      "/Users/iskander/Documents/Barbash_lab/TE_diversity_data/CN_dataframes/SIM_simTE_85 already exists.\n",
      "/Users/iskander/Documents/Barbash_lab/TE_diversity_data/CN_dataframes/SIM_simTE_85/FULL already exists.\n",
      "/Users/iskander/Documents/Barbash_lab/TE_diversity_data/CN_dataframes/SIM_simTE_85/NO_OUTLIERS already exists.\n",
      "/Users/iskander/Documents/Barbash_lab/TE_diversity_data/AP_dataframes/SIM_simTE_85 already exists.\n",
      "/Users/iskander/Documents/Barbash_lab/TE_diversity_data/seq_diversity_numpys/SIM_simTE_100 already exists.\n",
      "/Users/iskander/Documents/Barbash_lab/TE_diversity_data/CN_dataframes/SIM_simTE_100 already exists.\n",
      "/Users/iskander/Documents/Barbash_lab/TE_diversity_data/CN_dataframes/SIM_simTE_100/FULL already exists.\n",
      "/Users/iskander/Documents/Barbash_lab/TE_diversity_data/CN_dataframes/SIM_simTE_100/NO_OUTLIERS already exists.\n",
      "/Users/iskander/Documents/Barbash_lab/TE_diversity_data/AP_dataframes/SIM_simTE_100 already exists.\n"
     ]
    }
   ],
   "source": [
    "intervals = [5, 10, 15, 25, 50, 75, 85, 100, 150, 200]\n",
    "for k in intervals:\n",
    "    simData.simulateTE_population(TE_name=\"BD_ee_TE\", copy_number=25, strains=k, newDir=f\"simTE_{k}\", phylog=\"/Users/iskander/Documents/Barbash_lab/TE_diversity_data/PacBio/Phylogeny/BD_ee_TE.fa\")\n",
    "\n",
    "    runSimulation(f\"simTE_{k}\", inTE=\"BD_ee_TE\", sim_TE=\"BD_ee_TE\")\n",
    "\n"
   ]
  },
  {
   "cell_type": "markdown",
   "metadata": {},
   "source": [
    "I am simulating sequencing data from the same phylogeny and sequences for each interval, but each simulated run is a different set of individuals. This means that the dataframes are slightly different in each one. This may make the data kind of weird. If it ends up behaving in an unexpected manner.\n",
    "\n",
    "It is behaving weird so I'm going to try finagling this a bit."
   ]
  },
  {
   "cell_type": "code",
   "execution_count": 4,
   "metadata": {},
   "outputs": [
    {
     "name": "stdout",
     "output_type": "stream",
     "text": [
      "/Users/iskander/Documents/Barbash_lab/TE_diversity_data/seq_diversity_numpys/SIM_simTE_200 already exists.\n",
      "/Users/iskander/Documents/Barbash_lab/TE_diversity_data/CN_dataframes/SIM_simTE_200 already exists.\n",
      "/Users/iskander/Documents/Barbash_lab/TE_diversity_data/CN_dataframes/SIM_simTE_200/FULL already exists.\n",
      "/Users/iskander/Documents/Barbash_lab/TE_diversity_data/CN_dataframes/SIM_simTE_200/NO_OUTLIERS already exists.\n",
      "/Users/iskander/Documents/Barbash_lab/TE_diversity_data/AP_dataframes/SIM_simTE_200 already exists.\n"
     ]
    }
   ],
   "source": [
    "runSimulation(f\"simTE_200\", inTE=\"BD_ee_TE\", sim_TE=\"BD_ee_TE\")"
   ]
  },
  {
   "cell_type": "code",
   "execution_count": 27,
   "metadata": {},
   "outputs": [],
   "source": [
    "full_df = pd.read_csv(os.path.join(\"/Users/iskander/Documents/Barbash_lab/TE_diversity_data/CN_dataframes/SIM_simTE_200/FULL\", \"BD_ee_TE.CN.GDL.minor.csv\"))\n",
    "full_cn = np.load(\"/Users/iskander/Documents/Barbash_lab/TE_diversity_data/PacBio/Simulations/simTE_200/BD_ee_TE_CN.npy\")"
   ]
  },
  {
   "cell_type": "code",
   "execution_count": 28,
   "metadata": {},
   "outputs": [],
   "source": [
    "for k in [5, 10, 15, 25, 50, 75, 85, 100, 150]:\n",
    "    strains = np.random.choice(a=200, size=k, replace=False)\n",
    "    new_df = full_df.iloc[strains,: ]\n",
    "    new_np = full_cn[strains,:]\n",
    "    np.save(f\"/Users/iskander/Documents/Barbash_lab/TE_diversity_data/PacBio/Simulations/simTE_{k}/BD_ee_TE_CN.npy\", new_np)\n",
    "    new_df.to_csv(os.path.join(f\"/Users/iskander/Documents/Barbash_lab/TE_diversity_data/CN_dataframes/SIM_simTE_{k}/FULL\", \"BD_ee_TE.CN.GDL.minor.csv\"))"
   ]
  },
  {
   "cell_type": "code",
   "execution_count": null,
   "metadata": {},
   "outputs": [],
   "source": []
  }
 ],
 "metadata": {
  "kernelspec": {
   "display_name": "Python 3",
   "language": "python",
   "name": "python3"
  },
  "language_info": {
   "codemirror_mode": {
    "name": "ipython",
    "version": 3
   },
   "file_extension": ".py",
   "mimetype": "text/x-python",
   "name": "python",
   "nbconvert_exporter": "python",
   "pygments_lexer": "ipython3",
   "version": "3.8.6"
  }
 },
 "nbformat": 4,
 "nbformat_minor": 4
}
